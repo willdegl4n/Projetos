{
 "cells": [
  {
   "cell_type": "code",
   "execution_count": 0,
   "metadata": {
    "application/vnd.databricks.v1+cell": {
     "cellMetadata": {
      "byteLimit": 2048000,
      "rowLimit": 10000
     },
     "inputWidgets": {},
     "nuid": "260adf40-a26f-48ee-833a-2442254e475f",
     "showTitle": false,
     "tableResultSettingsMap": {},
     "title": ""
    }
   },
   "outputs": [],
   "source": [
    "#importando bibliotecas\n",
    "import boto3  # para conexão com aws\n",
    "import json   # para organizar ler e salvar json \n",
    "import requests  #para uso de solicitações da API\n",
    "\n",
    "\n",
    "\n"
   ]
  },
  {
   "cell_type": "code",
   "execution_count": 0,
   "metadata": {
    "application/vnd.databricks.v1+cell": {
     "cellMetadata": {
      "byteLimit": 2048000,
      "rowLimit": 10000
     },
     "inputWidgets": {},
     "nuid": "e7230110-88bb-4ce4-9e67-ba86f6aedd7d",
     "showTitle": false,
     "tableResultSettingsMap": {},
     "title": ""
    }
   },
   "outputs": [],
   "source": [
    "# função recuperar dados da api\n",
    "def extract_all_pokemon():\n",
    "  base_url = \"https://pokeapi.co/api/v2/pokemon/\"\n",
    "  pokemon_list = []\n",
    "  next_url = base_url\n",
    "\n",
    "  while next_url:\n",
    "    response = requests.get(next_url)\n",
    "    if response.status_code == 200:\n",
    "      data = response.json()\n",
    "      pokemon_list.extend(data['results'])\n",
    "      next_url = data.get('next')\n",
    "    else:\n",
    "      raise Exception(f\"Failed to fetch pokémon data. Satatus code: {response.status_code}\")\n",
    "  \n",
    "  return pokemon_list"
   ]
  },
  {
   "cell_type": "code",
   "execution_count": 0,
   "metadata": {
    "application/vnd.databricks.v1+cell": {
     "cellMetadata": {
      "byteLimit": 2048000,
      "rowLimit": 10000
     },
     "inputWidgets": {},
     "nuid": "79149022-ef02-48b8-8978-3efe0fd544f1",
     "showTitle": false,
     "tableResultSettingsMap": {},
     "title": ""
    }
   },
   "outputs": [],
   "source": [
    "# recebenco os valores da função e gravando em um dataframe\n",
    "pokemons = spark.createDataFrame(extract_all_pokemon())\n"
   ]
  },
  {
   "cell_type": "code",
   "execution_count": 0,
   "metadata": {
    "application/vnd.databricks.v1+cell": {
     "cellMetadata": {},
     "collapsed": true,
     "inputWidgets": {},
     "nuid": "9155796d-8bc0-4591-9815-a84a337e16e5",
     "showTitle": true,
     "tableResultSettingsMap": {},
     "title": "para uso no AWS S3"
    }
   },
   "outputs": [],
   "source": [
    "# função para salvar dados no S3\n",
    "def save_pokemon_to_s3(json_data, bucket_name, file_name):\n",
    "    try:\n",
    "        s3 = boto3.client('s3')\n",
    "        json_string = json.dumps(json_data, indent=4)\n",
    "        s3_client.put_object(Bucket=bucket_name, Key=file_name, Body=json_string)\n",
    "\n",
    "        print(f\"Arquivo {file_name} Salvo com sucesso no buckeet {bucket_name}\")\n",
    "    except Exception as e:\n",
    "        print(f\"Erro ao salvar arquivo no S3: {str(e)}\")"
   ]
  },
  {
   "cell_type": "code",
   "execution_count": 0,
   "metadata": {
    "application/vnd.databricks.v1+cell": {
     "cellMetadata": {
      "byteLimit": 2048000,
      "rowLimit": 10000
     },
     "inputWidgets": {},
     "nuid": "882b4408-0e32-4082-b7de-7dc22ef32fed",
     "showTitle": false,
     "tableResultSettingsMap": {},
     "title": ""
    }
   },
   "outputs": [],
   "source": [
    "# mostrando o dataframe\n",
    "display(pokemons)"
   ]
  },
  {
   "cell_type": "code",
   "execution_count": 0,
   "metadata": {
    "application/vnd.databricks.v1+cell": {
     "cellMetadata": {
      "byteLimit": 2048000,
      "rowLimit": 10000
     },
     "inputWidgets": {},
     "nuid": "ff854230-0a27-4085-bdf3-15f5c9307e63",
     "showTitle": false,
     "tableResultSettingsMap": {},
     "title": ""
    }
   },
   "outputs": [],
   "source": [
    "# criando a estrutura e salvando o dataframe em uma table\n",
    "spark.sql(\"CREATE CATALOG IF NOT EXISTS pokemon\")\n",
    "spark.sql(\"CREATE SCHEMA IF NOT EXISTS pokemon.bronze\")\n",
    "# salvando no bronze\n",
    "pokemons.write.mode(\"overwrite\").saveAsTable(\"pokemon.bronze.API\")"
   ]
  },
  {
   "cell_type": "code",
   "execution_count": 0,
   "metadata": {
    "application/vnd.databricks.v1+cell": {
     "cellMetadata": {
      "byteLimit": 2048000,
      "implicitDf": true,
      "rowLimit": 10000
     },
     "inputWidgets": {},
     "nuid": "7da830c5-0b9d-4c2e-b4cd-d5cd52458e63",
     "showTitle": false,
     "tableResultSettingsMap": {
      "0": {
       "dataGridStateBlob": "{\"version\":1,\"tableState\":{\"columnPinning\":{\"left\":[\"#row_number#\"],\"right\":[]},\"columnSizing\":{\"url\":497},\"columnVisibility\":{}},\"settings\":{\"columns\":{\"url\":{\"format\":{\"preset\":\"string-preset-url\"}}}},\"syncTimestamp\":1757515483294}",
       "filterBlob": null,
       "queryPlanFiltersBlob": null,
       "tableResultIndex": 0
      }
     },
     "title": ""
    }
   },
   "outputs": [],
   "source": [
    "%sql\n",
    "-- Selecionando as informações da tabela pokemon.bronze.API\n",
    "SELECT * FROM pokemon.bronze.api"
   ]
  }
 ],
 "metadata": {
  "application/vnd.databricks.v1+notebook": {
   "computePreferences": null,
   "dashboards": [],
   "environmentMetadata": {
    "base_environment": "",
    "environment_version": "3"
   },
   "inputWidgetPreferences": null,
   "language": "python",
   "notebookMetadata": {
    "mostRecentlyExecutedCommandWithImplicitDF": {
     "commandId": 8780545090599803,
     "dataframes": [
      "_sqldf"
     ]
    },
    "pythonIndentUnit": 4
   },
   "notebookName": "testeando_api",
   "widgets": {}
  },
  "language_info": {
   "name": "python"
  }
 },
 "nbformat": 4,
 "nbformat_minor": 0
}
