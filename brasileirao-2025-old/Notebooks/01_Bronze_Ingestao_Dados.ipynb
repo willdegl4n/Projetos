{
 "cells": [
  {
   "cell_type": "code",
   "execution_count": 0,
   "metadata": {
    "application/vnd.databricks.v1+cell": {
     "cellMetadata": {
      "byteLimit": 2048000,
      "rowLimit": 10000
     },
     "inputWidgets": {},
     "nuid": "0f4143e7-2735-462c-908f-b6e3512de887",
     "showTitle": false,
     "tableResultSettingsMap": {},
     "title": ""
    }
   },
   "outputs": [],
   "source": [
    "# Databricks notebook source\n",
    "# MAGIC %md\n",
    "# MAGIC ## 📋 Notebook 01 - Parte 1: Configuração Inicial\n",
    "# MAGIC \n",
    "# MAGIC Vamos testar passo a passo a configuração do ambiente.\n",
    "\n",
    "# COMMAND ----------\n",
    "\n",
    "# MAGIC %md\n",
    "# MAGIC ### **Passo 1: Verificar se podemos criar um Catalog**\n",
    "# MAGIC \n",
    "# MAGVamos tentar criar o catalog e ver o que acontece na free edition.\n",
    "\n",
    "# COMMAND ----------\n",
    "\n",
    "# Tenta criar o catalog\n",
    "try:\n",
    "    spark.sql(\"CREATE CATALOG IF NOT EXISTS brasileirao2025\")\n",
    "    print(\"✅ Catalog 'brasileirao2025' criado com sucesso!\")\n",
    "except Exception as e:\n",
    "    print(f\"❌ Erro ao criar catalog: {e}\")\n",
    "    print(\"⚠️  Provavelmente estamos na free edition - usando hive_metastore\")\n",
    "\n",
    "# COMMAND ----------\n",
    "\n",
    "# MAGIC %md\n",
    "# MAGIC ### **Passo 2: Listar os catalogs disponíveis**\n",
    "\n",
    "# COMMAND ----------\n",
    "\n",
    "# Mostra todos os catalogs disponíveis\n",
    "try:\n",
    "    catalogs = spark.sql(\"SHOW CATALOGS\")\n",
    "    display(catalogs)\n",
    "except Exception as e:\n",
    "    print(f\"❌ Erro ao listar catalogs: {e}\")\n",
    "    print(\"Usando hive_metastore como padrão\")\n",
    "\n",
    "# COMMAND ----------\n",
    "\n",
    "# MAGIC %md\n",
    "# MAGIC ### **Passo 3: Definir nossa estratégia com base no resultado**\n",
    "\n",
    "# COMMAND ----------\n",
    "\n",
    "# Vamos ver qual catalog estamos usando\n",
    "current_catalog = spark.sql(\"SELECT current_catalog()\").collect()[0][0]\n",
    "print(f\"📊 Catalog atual: {current_catalog}\")\n",
    "\n",
    "# Estratégia: Se não conseguimos criar catalog, usamos hive_metastore\n",
    "if current_catalog == \"hive_metastore\":\n",
    "    schema_name = \"brasileirao2025_bronze\"\n",
    "    full_table_path = f\"hive_metastore.{schema_name}.jogos_raw\"\n",
    "    print(f\"🎯 Usando hive_metastore com schema: {schema_name}\")\n",
    "else:\n",
    "    schema_name = \"bronze\"\n",
    "    full_table_path = f\"brasileirao2025.{schema_name}.jogos_raw\"\n",
    "    print(f\"🎯 Usando Unity Catalog: {full_table_path}\")\n",
    "\n",
    "# COMMAND ----------\n",
    "\n",
    "# MAGIC %md\n",
    "# MAGIC ### **Passo 4: Criar o schema/database**\n",
    "\n",
    "# COMMAND ----------\n",
    "\n",
    "# Criar o schema onde vamos guardar nossos dados\n",
    "try:\n",
    "    spark.sql(f\"CREATE DATABASE IF NOT EXISTS {schema_name}\")\n",
    "    print(f\"✅ Schema '{schema_name}' criado com sucesso!\")\n",
    "except Exception as e:\n",
    "    print(f\"❌ Erro ao criar schema: {e}\")\n",
    "\n",
    "# Mostrar todos os schemas/databases\n",
    "print(\"\\n📋 Schemas disponíveis:\")\n",
    "databases = spark.sql(\"SHOW DATABASES\")\n",
    "display(databases)"
   ]
  }
 ],
 "metadata": {
  "application/vnd.databricks.v1+notebook": {
   "computePreferences": null,
   "dashboards": [],
   "environmentMetadata": {
    "base_environment": "",
    "environment_version": "3"
   },
   "inputWidgetPreferences": null,
   "language": "python",
   "notebookMetadata": {
    "pythonIndentUnit": 4
   },
   "notebookName": "01_Bronze_Ingestao_Dados",
   "widgets": {}
  },
  "language_info": {
   "name": "python"
  }
 },
 "nbformat": 4,
 "nbformat_minor": 0
}
