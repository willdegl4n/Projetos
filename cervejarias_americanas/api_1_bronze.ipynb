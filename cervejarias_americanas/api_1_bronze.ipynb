{
 "cells": [
  {
   "cell_type": "code",
   "execution_count": null,
   "metadata": {
    "application/vnd.databricks.v1+cell": {
     "cellMetadata": {
      "byteLimit": 2048000,
      "rowLimit": 10000
     },
     "inputWidgets": {},
     "nuid": "27284a09-280f-4208-9be4-7714f769f34b",
     "showTitle": true,
     "tableResultSettingsMap": {},
     "title": "Bibliotecas"
    }
   },
   "outputs": [],
   "source": [
    "# Importando as bibliotecas\n",
    "import requests\n",
    "import pandas as pd"
   ]
  },
  {
   "cell_type": "code",
   "execution_count": null,
   "metadata": {
    "application/vnd.databricks.v1+cell": {
     "cellMetadata": {
      "byteLimit": 2048000,
      "rowLimit": 10000
     },
     "inputWidgets": {},
     "nuid": "e4334f16-4534-4266-b62a-f27c7d079d55",
     "showTitle": true,
     "tableResultSettingsMap": {},
     "title": "API e requisição"
    }
   },
   "outputs": [],
   "source": [
    "# URL da API\n",
    "url = \"https://api.openbrewerydb.org/v1/breweries\"\n",
    "\n",
    "#Requisição GET\n",
    "response = requests.get(url)\n",
    "\n",
    "#verifica se a requisição foi bem sucedida\n",
    "if response.status_code ==200:\n",
    "    data = response.json()\n",
    "else:\n",
    "    print(f\"Deu Erro PAEE! Falhou na requisição: {response.status_code}\")   "
   ]
  },
  {
   "cell_type": "code",
   "execution_count": 0,
   "metadata": {
    "application/vnd.databricks.v1+cell": {
     "cellMetadata": {
      "byteLimit": 2048000,
      "rowLimit": 10000
     },
     "inputWidgets": {},
     "nuid": "a5815484-6340-4580-890b-ba0c615fb6db",
     "showTitle": true,
     "tableResultSettingsMap": {},
     "title": "Criando o DataFrame"
    }
   },
   "outputs": [],
   "source": [
    "#Converter o json para dataframe\n",
    "df_pandas = pd.json_normalize(data)"
   ]
  },
  {
   "cell_type": "code",
   "execution_count": 0,
   "metadata": {
    "application/vnd.databricks.v1+cell": {
     "cellMetadata": {
      "byteLimit": 2048000,
      "rowLimit": 10000
     },
     "inputWidgets": {},
     "nuid": "e896d30d-6d9b-4984-98b0-d878eb7f4deb",
     "showTitle": true,
     "tableResultSettingsMap": {},
     "title": "Convertendo o DF em Spark"
    }
   },
   "outputs": [],
   "source": [
    "#Converte DataFrame pandas para Spark\n",
    "df_spark = spark.createDataFrame(df_pandas)"
   ]
  },
  {
   "cell_type": "code",
   "execution_count": 0,
   "metadata": {
    "application/vnd.databricks.v1+cell": {
     "cellMetadata": {
      "byteLimit": 2048000,
      "rowLimit": 10000
     },
     "inputWidgets": {},
     "nuid": "64b1c095-6e4d-489a-b235-a982ebb1e105",
     "showTitle": true,
     "tableResultSettingsMap": {},
     "title": "Chamando as funções spark"
    }
   },
   "outputs": [],
   "source": [
    "from pyspark.sql.functions import current_date\n",
    "from pyspark.sql.functions import expr"
   ]
  },
  {
   "cell_type": "code",
   "execution_count": 0,
   "metadata": {
    "application/vnd.databricks.v1+cell": {
     "cellMetadata": {
      "byteLimit": 2048000,
      "rowLimit": 10000
     },
     "inputWidgets": {},
     "nuid": "c281a066-4a45-41a8-970a-0bc5a58f85ce",
     "showTitle": true,
     "tableResultSettingsMap": {},
     "title": "ajustando o estrutura"
    }
   },
   "outputs": [],
   "source": [
    "# incluir colunas de controle\n",
    "df_spark = df_spark.withColumn(\"data_carga\", current_date())\n",
    "df_spark = df_spark.withColumn(\"data_hora_carga\", expr(\"current_timestamp() - INTERVAL 3 HOURS\"))"
   ]
  },
  {
   "cell_type": "code",
   "execution_count": 0,
   "metadata": {
    "application/vnd.databricks.v1+cell": {
     "cellMetadata": {
      "byteLimit": 2048000,
      "rowLimit": 10000
     },
     "inputWidgets": {},
     "nuid": "617f790b-a0dd-4d63-bd7e-e6dfa4f52e11",
     "showTitle": true,
     "tableResultSettingsMap": {},
     "title": "criando a delta table"
    }
   },
   "outputs": [],
   "source": [
    "# Verifique se o catálogo existe, caso contrário, crie-o\n",
    "spark.sql(\"CREATE CATALOG IF NOT EXISTS api_cerveja\")\n",
    "\n",
    "# Verifique se o esquema existe, caso contrário, crie-o\n",
    "spark.sql(\"CREATE SCHEMA IF NOT EXISTS api_cerveja.1_bronze\")\n",
    "\n",
    "# Atribuir as variáveis da estreutura\n",
    "catalogo = \"api_cerveja\"\n",
    "schema = \"1_bronze\"\n",
    "tabela = \"tb_cerveja\"\n",
    "\n",
    "df_spark.write \\\n",
    "    .format(\"delta\") \\\n",
    "    .mode(\"overwrite\") \\\n",
    "    .option(\"mergeSchema\", \"true\") \\\n",
    "    .option(\"overwriteSchema\", \"true\") \\\n",
    "    .saveAsTable(f\"{catalogo}.{schema}.{tabela}\")\n",
    "\n",
    "print(\"Dados salvos com sucesso em \" + f\"{catalogo}.{schema}.{tabela}\")"
   ]
  }
 ],
 "metadata": {
  "application/vnd.databricks.v1+notebook": {
   "computePreferences": {
    "hardware": {
     "accelerator": null,
     "gpuPoolId": null,
     "memory": null
    }
   },
   "dashboards": [],
   "environmentMetadata": {
    "base_environment": "",
    "environment_version": "2"
   },
   "inputWidgetPreferences": null,
   "language": "python",
   "notebookMetadata": {
    "mostRecentlyExecutedCommandWithImplicitDF": {
     "commandId": 5673974125335732,
     "dataframes": [
      "_sqldf"
     ]
    },
    "pythonIndentUnit": 4
   },
   "notebookName": "api_1_bronze",
   "widgets": {}
  },
  "kernelspec": {
   "display_name": "Python 3",
   "language": "python",
   "name": "python3"
  },
  "language_info": {
   "codemirror_mode": {
    "name": "ipython",
    "version": 3
   },
   "file_extension": ".py",
   "mimetype": "text/x-python",
   "name": "python",
   "nbconvert_exporter": "python",
   "pygments_lexer": "ipython3",
   "version": "3.12.4"
  }
 },
 "nbformat": 4,
 "nbformat_minor": 0
}
