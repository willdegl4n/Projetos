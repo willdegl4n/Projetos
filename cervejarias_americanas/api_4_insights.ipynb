{
 "cells": [
  {
   "cell_type": "code",
   "execution_count": 0,
   "metadata": {
    "application/vnd.databricks.v1+cell": {
     "cellMetadata": {
      "byteLimit": 2048000,
      "implicitDf": true,
      "rowLimit": 10000
     },
     "inputWidgets": {},
     "nuid": "a0fdf028-2a8b-42ee-b1c4-fdb83f6907e4",
     "showTitle": false,
     "tableResultSettingsMap": {},
     "title": ""
    }
   },
   "outputs": [],
   "source": [
    "%sql\n",
    "USE CATALOG api_cerveja;\n",
    "USE SCHEMA 3_gold;"
   ]
  },
  {
   "cell_type": "code",
   "execution_count": 0,
   "metadata": {
    "application/vnd.databricks.v1+cell": {
     "cellMetadata": {
      "byteLimit": 2048000,
      "implicitDf": true,
      "rowLimit": 10000
     },
     "inputWidgets": {},
     "nuid": "6bc7c7c2-cdb2-49f0-86a5-6ba028661584",
     "showTitle": false,
     "tableResultSettingsMap": {},
     "title": ""
    }
   },
   "outputs": [
    {
     "output_type": "display_data",
     "data": {
      "text/html": [
       "<style scoped>\n",
       "  .table-result-container {\n",
       "    max-height: 300px;\n",
       "    overflow: auto;\n",
       "  }\n",
       "  table, th, td {\n",
       "    border: 1px solid black;\n",
       "    border-collapse: collapse;\n",
       "  }\n",
       "  th, td {\n",
       "    padding: 5px;\n",
       "  }\n",
       "  th {\n",
       "    text-align: left;\n",
       "  }\n",
       "</style><div class='table-result-container'><table class='table-result'><thead style='background-color: white'><tr><th>nome_estado</th><th>qtd_estado</th></tr></thead><tbody><tr><td>Oregon</td><td>6</td></tr><tr><td>Colorado</td><td>4</td></tr><tr><td>California</td><td>4</td></tr><tr><td>Minnesota</td><td>3</td></tr><tr><td>Indiana</td><td>3</td></tr><tr><td>Arizona</td><td>3</td></tr><tr><td>New York</td><td>2</td></tr><tr><td>Ohio</td><td>2</td></tr><tr><td>North Carolina</td><td>2</td></tr><tr><td>Texas</td><td>2</td></tr><tr><td>Washington</td><td>2</td></tr><tr><td>Wisconsin</td><td>2</td></tr><tr><td>Idaho</td><td>1</td></tr><tr><td>Iowa</td><td>1</td></tr><tr><td>Delaware</td><td>1</td></tr><tr><td>Mississippi</td><td>1</td></tr><tr><td>Oklahoma</td><td>1</td></tr><tr><td>Nevada</td><td>1</td></tr><tr><td>Maryland</td><td>1</td></tr><tr><td>South Carolina</td><td>1</td></tr><tr><td>Laois</td><td>1</td></tr><tr><td>Vermont</td><td>1</td></tr><tr><td>Michigan</td><td>1</td></tr><tr><td>Virginia</td><td>1</td></tr><tr><td>Massachusetts</td><td>1</td></tr><tr><td>Illinois</td><td>1</td></tr><tr><td>Pennsylvania</td><td>1</td></tr></tbody></table></div>"
      ]
     },
     "metadata": {
      "application/vnd.databricks.v1+output": {
       "addedWidgets": {},
       "aggData": [],
       "aggError": "",
       "aggOverflow": false,
       "aggSchema": [],
       "aggSeriesLimitReached": false,
       "aggType": "",
       "arguments": {},
       "columnCustomDisplayInfos": {},
       "data": [
        [
         "Oregon",
         6
        ],
        [
         "Colorado",
         4
        ],
        [
         "California",
         4
        ],
        [
         "Minnesota",
         3
        ],
        [
         "Indiana",
         3
        ],
        [
         "Arizona",
         3
        ],
        [
         "New York",
         2
        ],
        [
         "Ohio",
         2
        ],
        [
         "North Carolina",
         2
        ],
        [
         "Texas",
         2
        ],
        [
         "Washington",
         2
        ],
        [
         "Wisconsin",
         2
        ],
        [
         "Idaho",
         1
        ],
        [
         "Iowa",
         1
        ],
        [
         "Delaware",
         1
        ],
        [
         "Mississippi",
         1
        ],
        [
         "Oklahoma",
         1
        ],
        [
         "Nevada",
         1
        ],
        [
         "Maryland",
         1
        ],
        [
         "South Carolina",
         1
        ],
        [
         "Laois",
         1
        ],
        [
         "Vermont",
         1
        ],
        [
         "Michigan",
         1
        ],
        [
         "Virginia",
         1
        ],
        [
         "Massachusetts",
         1
        ],
        [
         "Illinois",
         1
        ],
        [
         "Pennsylvania",
         1
        ]
       ],
       "datasetInfos": [
        {
         "name": "_sqldf",
         "schema": {
          "fields": [
           {
            "metadata": {
             "comment": "Estado da Cervejaria"
            },
            "name": "nome_estado",
            "nullable": true,
            "type": "string"
           },
           {
            "metadata": {},
            "name": "qtd_estado",
            "nullable": false,
            "type": "long"
           }
          ],
          "type": "struct"
         },
         "tableIdentifier": null,
         "typeStr": "pyspark.sql.connect.dataframe.DataFrame"
        }
       ],
       "dbfsResultPath": null,
       "isJsonSchema": true,
       "metadata": {
        "createTempViewForImplicitDf": true,
        "dataframeName": "_sqldf",
        "executionCount": 8
       },
       "overflow": false,
       "plotOptions": {
        "customPlotOptions": {},
        "displayType": "table",
        "pivotAggregation": null,
        "pivotColumns": null,
        "xColumns": null,
        "yColumns": null
       },
       "removedWidgets": [],
       "schema": [
        {
         "metadata": "{\"comment\": \"Estado da Cervejaria\"}",
         "name": "nome_estado",
         "type": "\"string\""
        },
        {
         "metadata": "{}",
         "name": "qtd_estado",
         "type": "\"long\""
        }
       ],
       "type": "table"
      }
     },
     "output_type": "display_data"
    },
    {
     "output_type": "display_data",
     "data": {
      "text/plain": [
       "Databricks visualization. Run in Databricks to view."
      ]
     },
     "metadata": {
      "application/vnd.databricks.v1.subcommand+json": {
       "baseErrorDetails": null,
       "bindings": {},
       "collapsed": false,
       "command": "%sql WITH q AS (SELECT state_province, COUNT(state_province) AS quantidade_estado FROM gold.api_cerveja_insight GROUP BY state_province ORDER BY COUNT(state_province) DESC) SELECT `state_province`,SUM(`quantidade_estado`) `column_f76acaba23` FROM q GROUP BY `state_province`",
       "commandTitle": "Visualization 1",
       "commandType": "auto",
       "commandVersion": 0,
       "commentThread": [],
       "commentsVisible": false,
       "contentSha256Hex": null,
       "customPlotOptions": {
        "redashChart": [
         {
          "key": "type",
          "value": "CHART"
         },
         {
          "key": "options",
          "value": {
           "alignYAxesAtZero": true,
           "coefficient": 1,
           "columnConfigurationMap": {
            "x": {
             "column": "state_province",
             "id": "column_f76acaba22"
            },
            "y": [
             {
              "column": "quantidade_estado",
              "id": "column_f76acaba23",
              "transform": "SUM"
             }
            ]
           },
           "dateTimeFormat": "DD/MM/YYYY HH:mm",
           "direction": {
            "type": "counterclockwise"
           },
           "error_y": {
            "type": "data",
            "visible": true
           },
           "globalSeriesType": "area",
           "isAggregationOn": true,
           "legend": {
            "traceorder": "normal"
           },
           "missingValuesAsZero": true,
           "numberFormat": "0,0.[00000]",
           "percentFormat": "0[.]00%",
           "series": {
            "error_y": {
             "type": "data",
             "visible": true
            },
            "stacking": null
           },
           "seriesOptions": {
            "column_f76acaba23": {
             "color": "#8BCAE7",
             "name": "quantidade_estado",
             "type": "area",
             "yAxis": 0
            }
           },
           "showDataLabels": false,
           "sizemode": "diameter",
           "sortX": true,
           "sortY": true,
           "swappedAxes": false,
           "textFormat": "",
           "useAggregationsUi": true,
           "valuesOptions": {},
           "version": 2,
           "xAxis": {
            "labels": {
             "enabled": true
            },
            "title": {
             "text": "Nome do estado"
            },
            "type": "-"
           },
           "yAxis": [
            {
             "title": {
              "text": "Quantidade de cervejaria por estado"
             },
             "type": "-"
            },
            {
             "opposite": true,
             "type": "-"
            }
           ]
          }
         }
        ]
       },
       "datasetPreviewNameToCmdIdMap": {},
       "diffDeletes": [],
       "diffInserts": [],
       "displayType": "redashChart",
       "error": null,
       "errorDetails": null,
       "errorSummary": null,
       "errorTraceType": null,
       "finishTime": 0,
       "globalVars": {},
       "guid": "",
       "height": "auto",
       "hideCommandCode": false,
       "hideCommandResult": false,
       "iPythonMetadata": null,
       "inputWidgets": {},
       "isLockedInExamMode": false,
       "latestUser": "a user",
       "latestUserId": null,
       "listResultMetadata": null,
       "metadata": {},
       "nuid": "d18cec5f-5df7-4673-a316-dc35a52aac67",
       "origId": 0,
       "parentHierarchy": [],
       "pivotAggregation": null,
       "pivotColumns": null,
       "position": 3.0,
       "resultDbfsErrorMessage": null,
       "resultDbfsStatus": "INLINED_IN_TREE",
       "results": null,
       "showCommandTitle": false,
       "startTime": 0,
       "state": "input",
       "streamStates": {},
       "subcommandOptions": {
        "queryPlan": {
         "groups": [
          {
           "column": "state_province",
           "type": "column"
          }
         ],
         "selects": [
          {
           "column": "state_province",
           "type": "column"
          },
          {
           "alias": "column_f76acaba23",
           "args": [
            {
             "column": "quantidade_estado",
             "type": "column"
            }
           ],
           "function": "SUM",
           "type": "function"
          }
         ]
        }
       },
       "submitTime": 0,
       "subtype": "tableResultSubCmd.visualization",
       "tableResultIndex": 0,
       "tableResultSettingsMap": {},
       "useConsistentColors": false,
       "version": "CommandV1",
       "width": "auto",
       "workflows": [],
       "xColumns": null,
       "yColumns": null
      }
     },
     "output_type": "display_data"
    }
   ],
   "source": [
    "%sql\n",
    "SELECT state_province AS nome_estado\n",
    "      , COUNT(state_province) AS qtd_estado \n",
    "FROM 3_gold.tb_cerveja_insight \n",
    "GROUP BY state_province \n",
    "  ORDER BY COUNT(state_province) DESC;"
   ]
  },
  {
   "cell_type": "code",
   "execution_count": 0,
   "metadata": {
    "application/vnd.databricks.v1+cell": {
     "cellMetadata": {
      "byteLimit": 2048000,
      "implicitDf": true,
      "rowLimit": 10000
     },
     "inputWidgets": {},
     "nuid": "e6d07bf7-6417-40e2-b2b8-bb43aefc716d",
     "showTitle": false,
     "tableResultSettingsMap": {},
     "title": ""
    }
   },
   "outputs": [
    {
     "output_type": "display_data",
     "data": {
      "text/html": [
       "<style scoped>\n",
       "  .table-result-container {\n",
       "    max-height: 300px;\n",
       "    overflow: auto;\n",
       "  }\n",
       "  table, th, td {\n",
       "    border: 1px solid black;\n",
       "    border-collapse: collapse;\n",
       "  }\n",
       "  th, td {\n",
       "    padding: 5px;\n",
       "  }\n",
       "  th {\n",
       "    text-align: left;\n",
       "  }\n",
       "</style><div class='table-result-container'><table class='table-result'><thead style='background-color: white'><tr><th>name_brewery</th><th>longitude</th><th>latitude</th><th>state_province</th></tr></thead><tbody><tr><td>(405) Brewing Co</td><td>-97.46818222</td><td>35.25738891</td><td>Oklahoma</td></tr><tr><td>(512) Brewing Co</td><td>null</td><td>null</td><td>Texas</td></tr><tr><td>1 of Us Brewing Company</td><td>-87.883363502094</td><td>42.720108268996</td><td>Wisconsin</td></tr><tr><td>10 Barrel Brewing Co</td><td>-121.281706</td><td>44.08683531</td><td>Oregon</td></tr><tr><td>10 Barrel Brewing Co</td><td>-121.3288021</td><td>44.0575649</td><td>Oregon</td></tr><tr><td>10 Barrel Brewing Co</td><td>-122.6855056</td><td>45.5259786</td><td>Oregon</td></tr><tr><td>10 Barrel Brewing Co</td><td>-117.129593</td><td>32.714813</td><td>California</td></tr><tr><td>10 Barrel Brewing Co - Bend Pub</td><td>-121.2809536</td><td>44.0912109</td><td>Oregon</td></tr><tr><td>10 Barrel Brewing Co - Boise</td><td>-116.202929</td><td>43.618516</td><td>Idaho</td></tr><tr><td>10 Barrel Brewing Co - Denver</td><td>-104.9853655</td><td>39.7592508</td><td>Colorado</td></tr><tr><td>10 Torr Distilling and Brewing</td><td>-119.7732015</td><td>39.5171702</td><td>Nevada</td></tr><tr><td>10-56 Brewing Company</td><td>-86.627954</td><td>41.289715</td><td>Indiana</td></tr><tr><td>101 North Brewing Company</td><td>-122.665055</td><td>38.27029381</td><td>California</td></tr><tr><td>105 West Brewing Co</td><td>-104.8667206</td><td>39.38269495</td><td>Colorado</td></tr><tr><td>10K Brewing</td><td>-93.38952559</td><td>45.19812039</td><td>Minnesota</td></tr><tr><td>10th District Brewing Company</td><td>-70.94594149</td><td>42.10591754</td><td>Massachusetts</td></tr><tr><td>11 Below Brewing Company</td><td>-95.5186591</td><td>29.9515464</td><td>Texas</td></tr><tr><td>1188 Brewing Co</td><td>-118.9218754</td><td>44.4146563</td><td>Oregon</td></tr><tr><td>12 Acres Brewing Company</td><td>-6.979343891</td><td>52.84930763</td><td>Laois</td></tr><tr><td>12 Gates Brewing Company</td><td>null</td><td>null</td><td>New York</td></tr><tr><td>12 West Brewing Company</td><td>null</td><td>null</td><td>Arizona</td></tr><tr><td>12 West Brewing Company - Production Facility</td><td>-111.5860662</td><td>33.436188</td><td>Arizona</td></tr><tr><td>122 West Brewing Co</td><td>-122.485982</td><td>48.7621709</td><td>Washington</td></tr><tr><td>127 Brewing</td><td>-84.43116792</td><td>42.28667212</td><td>Michigan</td></tr><tr><td>12Degree Brewing</td><td>-105.1319826</td><td>39.9782443</td><td>Colorado</td></tr><tr><td>12welve Eyes Brewing</td><td>null</td><td>null</td><td>Minnesota</td></tr><tr><td>13 Below Brewery</td><td>-84.70634815</td><td>39.12639764</td><td>Ohio</td></tr><tr><td>13 Stripes Brewery</td><td>null</td><td>null</td><td>South Carolina</td></tr><tr><td>13 Virtues Brewing Co</td><td>-122.6487531</td><td>45.4762536</td><td>Oregon</td></tr><tr><td>1323 R & D</td><td>null</td><td>null</td><td>North Carolina</td></tr><tr><td>14 Cannons Brewing Company</td><td>-118.802397</td><td>34.15334</td><td>California</td></tr><tr><td>14 Lakes Brewery</td><td>null</td><td>null</td><td>Minnesota</td></tr><tr><td>14er Brewing Company</td><td>-104.9839636</td><td>39.7614112</td><td>Colorado</td></tr><tr><td>14th Star Brewing</td><td>null</td><td>null</td><td>Vermont</td></tr><tr><td>16 Lots Brewing</td><td>-84.3183801</td><td>39.3545967</td><td>Ohio</td></tr><tr><td>16 Mile Brewing Co</td><td>-75.37816436</td><td>38.6788938</td><td>Delaware</td></tr><tr><td>16 Stone Brewpub</td><td>-75.2565195</td><td>43.24211175</td><td>New York</td></tr><tr><td>1623 Brewing CO, llc</td><td>null</td><td>null</td><td>Maryland</td></tr><tr><td>1717 Brewing Co</td><td>-93.6120353</td><td>41.5872267</td><td>Iowa</td></tr><tr><td>1718 Ocracoke Brewing</td><td>-75.97176063</td><td>35.10715368</td><td>North Carolina</td></tr><tr><td>1781 Brewing Company</td><td>null</td><td>null</td><td>Virginia</td></tr><tr><td>180 and Tapped</td><td>-80.15020356</td><td>40.50984957</td><td>Pennsylvania</td></tr><tr><td>1817 Brewery</td><td>-88.750264</td><td>34.001703</td><td>Mississippi</td></tr><tr><td>1840 Brewing Company</td><td>-87.90606942</td><td>43.00436242</td><td>Wisconsin</td></tr><tr><td>1850 Brewing Company</td><td>-119.9036592</td><td>37.570148</td><td>California</td></tr><tr><td>18th Street Brewery</td><td>-87.26887786</td><td>41.59928343</td><td>Indiana</td></tr><tr><td>18th Street Brewery</td><td>-87.517422</td><td>41.61556796</td><td>Indiana</td></tr><tr><td>1905 Brewing Company</td><td>-89.0503635</td><td>39.5172564</td><td>Illinois</td></tr><tr><td>1912 Brewing</td><td>-110.9927505</td><td>32.24673727</td><td>Arizona</td></tr><tr><td>192 Brewing</td><td>-122.2415652</td><td>47.75670075</td><td>Washington</td></tr></tbody></table></div>"
      ]
     },
     "metadata": {
      "application/vnd.databricks.v1+output": {
       "addedWidgets": {},
       "aggData": [],
       "aggError": "",
       "aggOverflow": false,
       "aggSchema": [],
       "aggSeriesLimitReached": false,
       "aggType": "",
       "arguments": {},
       "columnCustomDisplayInfos": {},
       "data": [
        [
         "(405) Brewing Co",
         -97.46818222,
         35.25738891,
         "Oklahoma"
        ],
        [
         "(512) Brewing Co",
         null,
         null,
         "Texas"
        ],
        [
         "1 of Us Brewing Company",
         -87.883363502094,
         42.720108268996,
         "Wisconsin"
        ],
        [
         "10 Barrel Brewing Co",
         -121.281706,
         44.08683531,
         "Oregon"
        ],
        [
         "10 Barrel Brewing Co",
         -121.3288021,
         44.0575649,
         "Oregon"
        ],
        [
         "10 Barrel Brewing Co",
         -122.6855056,
         45.5259786,
         "Oregon"
        ],
        [
         "10 Barrel Brewing Co",
         -117.129593,
         32.714813,
         "California"
        ],
        [
         "10 Barrel Brewing Co - Bend Pub",
         -121.2809536,
         44.0912109,
         "Oregon"
        ],
        [
         "10 Barrel Brewing Co - Boise",
         -116.202929,
         43.618516,
         "Idaho"
        ],
        [
         "10 Barrel Brewing Co - Denver",
         -104.9853655,
         39.7592508,
         "Colorado"
        ],
        [
         "10 Torr Distilling and Brewing",
         -119.7732015,
         39.5171702,
         "Nevada"
        ],
        [
         "10-56 Brewing Company",
         -86.627954,
         41.289715,
         "Indiana"
        ],
        [
         "101 North Brewing Company",
         -122.665055,
         38.27029381,
         "California"
        ],
        [
         "105 West Brewing Co",
         -104.8667206,
         39.38269495,
         "Colorado"
        ],
        [
         "10K Brewing",
         -93.38952559,
         45.19812039,
         "Minnesota"
        ],
        [
         "10th District Brewing Company",
         -70.94594149,
         42.10591754,
         "Massachusetts"
        ],
        [
         "11 Below Brewing Company",
         -95.5186591,
         29.9515464,
         "Texas"
        ],
        [
         "1188 Brewing Co",
         -118.9218754,
         44.4146563,
         "Oregon"
        ],
        [
         "12 Acres Brewing Company",
         -6.979343891,
         52.84930763,
         "Laois"
        ],
        [
         "12 Gates Brewing Company",
         null,
         null,
         "New York"
        ],
        [
         "12 West Brewing Company",
         null,
         null,
         "Arizona"
        ],
        [
         "12 West Brewing Company - Production Facility",
         -111.5860662,
         33.436188,
         "Arizona"
        ],
        [
         "122 West Brewing Co",
         -122.485982,
         48.7621709,
         "Washington"
        ],
        [
         "127 Brewing",
         -84.43116792,
         42.28667212,
         "Michigan"
        ],
        [
         "12Degree Brewing",
         -105.1319826,
         39.9782443,
         "Colorado"
        ],
        [
         "12welve Eyes Brewing",
         null,
         null,
         "Minnesota"
        ],
        [
         "13 Below Brewery",
         -84.70634815,
         39.12639764,
         "Ohio"
        ],
        [
         "13 Stripes Brewery",
         null,
         null,
         "South Carolina"
        ],
        [
         "13 Virtues Brewing Co",
         -122.6487531,
         45.4762536,
         "Oregon"
        ],
        [
         "1323 R & D",
         null,
         null,
         "North Carolina"
        ],
        [
         "14 Cannons Brewing Company",
         -118.802397,
         34.15334,
         "California"
        ],
        [
         "14 Lakes Brewery",
         null,
         null,
         "Minnesota"
        ],
        [
         "14er Brewing Company",
         -104.9839636,
         39.7614112,
         "Colorado"
        ],
        [
         "14th Star Brewing",
         null,
         null,
         "Vermont"
        ],
        [
         "16 Lots Brewing",
         -84.3183801,
         39.3545967,
         "Ohio"
        ],
        [
         "16 Mile Brewing Co",
         -75.37816436,
         38.6788938,
         "Delaware"
        ],
        [
         "16 Stone Brewpub",
         -75.2565195,
         43.24211175,
         "New York"
        ],
        [
         "1623 Brewing CO, llc",
         null,
         null,
         "Maryland"
        ],
        [
         "1717 Brewing Co",
         -93.6120353,
         41.5872267,
         "Iowa"
        ],
        [
         "1718 Ocracoke Brewing",
         -75.97176063,
         35.10715368,
         "North Carolina"
        ],
        [
         "1781 Brewing Company",
         null,
         null,
         "Virginia"
        ],
        [
         "180 and Tapped",
         -80.15020356,
         40.50984957,
         "Pennsylvania"
        ],
        [
         "1817 Brewery",
         -88.750264,
         34.001703,
         "Mississippi"
        ],
        [
         "1840 Brewing Company",
         -87.90606942,
         43.00436242,
         "Wisconsin"
        ],
        [
         "1850 Brewing Company",
         -119.9036592,
         37.570148,
         "California"
        ],
        [
         "18th Street Brewery",
         -87.26887786,
         41.59928343,
         "Indiana"
        ],
        [
         "18th Street Brewery",
         -87.517422,
         41.61556796,
         "Indiana"
        ],
        [
         "1905 Brewing Company",
         -89.0503635,
         39.5172564,
         "Illinois"
        ],
        [
         "1912 Brewing",
         -110.9927505,
         32.24673727,
         "Arizona"
        ],
        [
         "192 Brewing",
         -122.2415652,
         47.75670075,
         "Washington"
        ]
       ],
       "datasetInfos": [
        {
         "name": "_sqldf",
         "schema": {
          "fields": [
           {
            "metadata": {
             "comment": "Nome da Cervejaria"
            },
            "name": "name_brewery",
            "nullable": true,
            "type": "string"
           },
           {
            "metadata": {
             "comment": "Longitude da Cervejaria"
            },
            "name": "longitude",
            "nullable": true,
            "type": "double"
           },
           {
            "metadata": {
             "comment": "Latitude da Cervejaria"
            },
            "name": "latitude",
            "nullable": true,
            "type": "double"
           },
           {
            "metadata": {
             "comment": "Estado da Cervejaria"
            },
            "name": "state_province",
            "nullable": true,
            "type": "string"
           }
          ],
          "type": "struct"
         },
         "tableIdentifier": null,
         "typeStr": "pyspark.sql.connect.dataframe.DataFrame"
        }
       ],
       "dbfsResultPath": null,
       "isJsonSchema": true,
       "metadata": {
        "createTempViewForImplicitDf": true,
        "dataframeName": "_sqldf",
        "executionCount": 5
       },
       "overflow": false,
       "plotOptions": {
        "customPlotOptions": {},
        "displayType": "table",
        "pivotAggregation": null,
        "pivotColumns": null,
        "xColumns": null,
        "yColumns": null
       },
       "removedWidgets": [],
       "schema": [
        {
         "metadata": "{\"comment\": \"Nome da Cervejaria\"}",
         "name": "name_brewery",
         "type": "\"string\""
        },
        {
         "metadata": "{\"comment\": \"Longitude da Cervejaria\"}",
         "name": "longitude",
         "type": "\"double\""
        },
        {
         "metadata": "{\"comment\": \"Latitude da Cervejaria\"}",
         "name": "latitude",
         "type": "\"double\""
        },
        {
         "metadata": "{\"comment\": \"Estado da Cervejaria\"}",
         "name": "state_province",
         "type": "\"string\""
        }
       ],
       "type": "table"
      }
     },
     "output_type": "display_data"
    },
    {
     "output_type": "display_data",
     "data": {
      "text/plain": [
       "Databricks visualization. Run in Databricks to view."
      ]
     },
     "metadata": {
      "application/vnd.databricks.v1.subcommand+json": {
       "baseErrorDetails": null,
       "bindings": {},
       "collapsed": false,
       "command": "%sql\nselect name_brewery, longitude, latitude, state_province from gold.api_cerveja_insight;",
       "commandTitle": "Visualization 1",
       "commandType": "auto",
       "commandVersion": 0,
       "commentThread": [],
       "commentsVisible": false,
       "contentSha256Hex": null,
       "customPlotOptions": {
        "redashChart": [
         {
          "key": "type",
          "value": "MAP"
         },
         {
          "key": "options",
          "value": {
           "backgroundColor": "#356AFF",
           "borderColor": "#356AFF",
           "bounds": null,
           "classify": "state_province",
           "clusterMarkers": false,
           "customizeMarkers": false,
           "foregroundColor": "#ffffff",
           "groups": {},
           "iconFont": "circle",
           "iconShape": "marker",
           "latColName": "latitude",
           "lonColName": "longitude",
           "mapTileUrl": "//{s}.tile.openstreetmap.org/{z}/{x}/{y}.png",
           "popup": {
            "enabled": true,
            "template": ""
           },
           "tooltip": {
            "enabled": false,
            "template": ""
           }
          }
         }
        ]
       },
       "datasetPreviewNameToCmdIdMap": {},
       "diffDeletes": [],
       "diffInserts": [],
       "displayType": "redashChart",
       "error": null,
       "errorDetails": null,
       "errorSummary": null,
       "errorTraceType": null,
       "finishTime": 0,
       "globalVars": {},
       "guid": "",
       "height": "auto",
       "hideCommandCode": false,
       "hideCommandResult": false,
       "iPythonMetadata": null,
       "inputWidgets": {},
       "isLockedInExamMode": false,
       "latestUser": "a user",
       "latestUserId": null,
       "listResultMetadata": null,
       "metadata": {},
       "nuid": "f39ce57f-0dc6-4fc1-98e5-1bb58f8492e3",
       "origId": 0,
       "parentHierarchy": [],
       "pivotAggregation": null,
       "pivotColumns": null,
       "position": 4.0,
       "resultDbfsErrorMessage": null,
       "resultDbfsStatus": "INLINED_IN_TREE",
       "results": null,
       "showCommandTitle": false,
       "startTime": 0,
       "state": "input",
       "streamStates": {},
       "subcommandOptions": {},
       "submitTime": 0,
       "subtype": "tableResultSubCmd.visualization",
       "tableResultIndex": 0,
       "tableResultSettingsMap": {},
       "useConsistentColors": false,
       "version": "CommandV1",
       "width": "auto",
       "workflows": [],
       "xColumns": null,
       "yColumns": null
      }
     },
     "output_type": "display_data"
    }
   ],
   "source": [
    "%sql\n",
    "SELECT name_brewery\n",
    "     , longitude\n",
    "     , latitude\n",
    "     , state_province \n",
    "FROM 3_gold.tb_cerveja_insight;"
   ]
  }
 ],
 "metadata": {
  "application/vnd.databricks.v1+notebook": {
   "computePreferences": {
    "hardware": {
     "accelerator": null,
     "gpuPoolId": null,
     "memory": null
    }
   },
   "dashboards": [],
   "environmentMetadata": {
    "base_environment": "",
    "environment_version": "2"
   },
   "inputWidgetPreferences": null,
   "language": "python",
   "notebookMetadata": {
    "mostRecentlyExecutedCommandWithImplicitDF": {
     "commandId": 7970116477031440,
     "dataframes": [
      "_sqldf"
     ]
    },
    "pythonIndentUnit": 4
   },
   "notebookName": "api_4_insights",
   "widgets": {}
  },
  "language_info": {
   "name": "python"
  }
 },
 "nbformat": 4,
 "nbformat_minor": 0
}