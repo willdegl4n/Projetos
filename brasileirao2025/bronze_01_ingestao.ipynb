{
 "cells": [
  {
   "cell_type": "code",
   "execution_count": 0,
   "metadata": {
    "application/vnd.databricks.v1+cell": {
     "cellMetadata": {
      "byteLimit": 2048000,
      "rowLimit": 10000
     },
     "inputWidgets": {},
     "nuid": "1a2fe3c6-2378-43c6-b234-5f36bd6417dc",
     "showTitle": false,
     "tableResultSettingsMap": {},
     "title": ""
    }
   },
   "outputs": [],
   "source": [
    "# Caminho no Volume\n",
    "caminho_volume_csv = \"/Volumes/brasileirao2025/bronze/source/brasileirao_2025.csv\"\n",
    "\n",
    "# Criar DataFrame a partir de CSV\n",
    "df_partidas = spark.read.option(\"header\", True).csv(caminho_volume_csv)\n",
    "\n",
    "df_partidas.show(5)\n"
   ]
  },
  {
   "cell_type": "code",
   "execution_count": 0,
   "metadata": {
    "application/vnd.databricks.v1+cell": {
     "cellMetadata": {
      "byteLimit": 2048000,
      "rowLimit": 10000
     },
     "inputWidgets": {},
     "nuid": "da3a5b77-191c-4579-a14d-0ba1b9db9fa5",
     "showTitle": false,
     "tableResultSettingsMap": {},
     "title": ""
    }
   },
   "outputs": [],
   "source": [
    "import requests, re, json\n",
    "\n",
    "url = \"https://ge.globo.com/futebol/brasileirao-serie-a/\"\n",
    "html = requests.get(url, headers={\"User-Agent\": \"Mozilla/5.0\"}).text\n",
    "\n",
    "# Captura o JSON que o site injeta no HTML\n",
    "match = re.search(r\"window\\.__INITIAL_STATE__=(.*?);\\(function\", html)\n",
    "if match:\n",
    "    data = json.loads(match.group(1))\n",
    "    # Dentro desse JSON estão rodadas e jogos\n",
    "    fases = data.get(\"championship\", {}).get(\"phases\", {})\n",
    "    for fase_id, fase_info in fases.items():\n",
    "        rodadas = fase_info.get(\"rounds\", {})\n",
    "        for rodada_id, rodada_info in rodadas.items():\n",
    "            jogos = rodada_info.get(\"matches\", [])\n",
    "            print(f\"Rodada {rodada_id} -> {len(jogos)} jogos\")\n",
    "else:\n",
    "    print(\"⚠️ Não consegui extrair o JSON do GE\")\n"
   ]
  },
  {
   "cell_type": "code",
   "execution_count": 0,
   "metadata": {
    "application/vnd.databricks.v1+cell": {
     "cellMetadata": {
      "byteLimit": 2048000,
      "rowLimit": 10000
     },
     "inputWidgets": {},
     "nuid": "cdda29eb-259b-4b51-bccc-9b11625736a1",
     "showTitle": false,
     "tableResultSettingsMap": {},
     "title": ""
    }
   },
   "outputs": [],
   "source": [
    "import requests\n",
    "\n",
    "url = \"https://v3.football.api-sports.io/fixtures\"\n",
    "headers = {\"x-apisports-key\": \"SUA_CHAVE_AQUI\"}\n",
    "params = {\"league\": 71, \"season\": 2025}  # 71 = Brasileirão Série A\n",
    "\n",
    "resp = requests.get(url, headers=headers, params=params)\n",
    "data = resp.json()\n",
    "\n",
    "partidas = data.get(\"response\", [])\n",
    "print(f\"Total de partidas: {len(partidas)}\")\n",
    "\n",
    "# Converter para DataFrame Spark\n",
    "if partidas:\n",
    "    df_partidas = spark.createDataFrame([\n",
    "        {\n",
    "            \"id\": p[\"fixture\"][\"id\"],\n",
    "            \"data\": p[\"fixture\"][\"date\"],\n",
    "            \"mandante\": p[\"teams\"][\"home\"][\"name\"],\n",
    "            \"visitante\": p[\"teams\"][\"away\"][\"name\"],\n",
    "            \"placar_mandante\": p[\"goals\"][\"home\"],\n",
    "            \"placar_visitante\": p[\"goals\"][\"away\"]\n",
    "        }\n",
    "        for p in partidas\n",
    "    ])\n",
    "    df_partidas.show(5)\n"
   ]
  },
  {
   "cell_type": "code",
   "execution_count": 0,
   "metadata": {
    "application/vnd.databricks.v1+cell": {
     "cellMetadata": {
      "byteLimit": 2048000,
      "rowLimit": 10000
     },
     "inputWidgets": {},
     "nuid": "1f155d73-1063-4a72-9298-b9acee1ecbaf",
     "showTitle": false,
     "tableResultSettingsMap": {},
     "title": ""
    }
   },
   "outputs": [],
   "source": [
    "# Instalar bibliotecas necessárias (Databricks Free precisa do pip no notebook)\n",
    "%pip install requests beautifulsoup4 lxml\n",
    "\n",
    "import requests\n",
    "from bs4 import BeautifulSoup\n",
    "import pandas as pd\n",
    "\n",
    "# URL da tabela oficial no site da CBF\n",
    "url = \"https://www.cbf.com.br/futebol-brasileiro/competicoes/campeonato-brasileiro-serie-a/2025\"\n",
    "\n",
    "# Fazer request\n",
    "response = requests.get(url)\n",
    "if response.status_code != 200:\n",
    "    raise Exception(f\"Erro ao acessar página da CBF: {response.status_code}\")\n",
    "\n",
    "# Parsear HTML\n",
    "soup = BeautifulSoup(response.text, \"lxml\")\n",
    "\n",
    "# A tabela de jogos está em divs com a classe \"swiper-slide\"\n",
    "partidas = []\n",
    "for jogo in soup.select(\"div.swiper-slide\"):\n",
    "    rodada = jogo.select_one(\"h5\").get_text(strip=True) if jogo.select_one(\"h5\") else None\n",
    "    data = jogo.select_one(\"span.hora-local\").get_text(strip=True) if jogo.select_one(\"span.hora-local\") else None\n",
    "    equipes = jogo.select(\"strong.time-nome\")\n",
    "    mandante = equipes[0].get_text(strip=True) if len(equipes) > 0 else None\n",
    "    visitante = equipes[1].get_text(strip=True) if len(equipes) > 1 else None\n",
    "    estadio = jogo.select_one(\"span.nome-completo\").get_text(strip=True) if jogo.select_one(\"span.nome-completo\") else None\n",
    "    \n",
    "    partidas.append({\n",
    "        \"rodada\": rodada,\n",
    "        \"data\": data,\n",
    "        \"mandante\": mandante,\n",
    "        \"visitante\": visitante,\n",
    "        \"estadio\": estadio\n",
    "    })\n",
    "\n",
    "# Criar DataFrame Pandas\n",
    "df = pd.DataFrame(partidas)\n",
    "\n",
    "print(\"Prévia dos dados raspados:\")\n",
    "print(df.head())\n",
    "\n",
    "# Caminho para salvar no Unity Catalog (Volume Bronze)\n",
    "caminho_csv = \"/Volumes/brasileirao2025/bronze/source/brasileirao_2025.csv\"\n",
    "\n",
    "# Converter para Spark DataFrame\n",
    "df_spark = spark.createDataFrame(df)\n",
    "\n",
    "# Salvar como CSV no volume\n",
    "df_spark.write.mode(\"overwrite\").option(\"header\", True).csv(caminho_csv)\n",
    "\n",
    "print(f\"✅ Dados salvos no volume: {caminho_csv}\")\n",
    "\n",
    "# Criar tabela no catálogo bronze\n",
    "spark.sql(f\"\"\"\n",
    "CREATE TABLE IF NOT EXISTS brasileirao2025.bronze.tb_bronze_partidas\n",
    "USING csv\n",
    "OPTIONS (header = \"true\")\n",
    "LOCATION '{caminho_csv}'\n",
    "\"\"\")\n",
    "\n",
    "print(\"✅ Tabela criada no Unity Catalog: brasileirao2025.bronze.tb_bronze_partidas\")\n",
    "\n",
    "# Conferir dados\n",
    "spark.sql(\"SELECT * FROM brasileirao2025.bronze.tb_bronze_partidas LIMIT 10\").show(truncate=False)\n"
   ]
  }
 ],
 "metadata": {
  "application/vnd.databricks.v1+notebook": {
   "computePreferences": null,
   "dashboards": [],
   "environmentMetadata": {
    "base_environment": "",
    "environment_version": "3"
   },
   "inputWidgetPreferences": null,
   "language": "python",
   "notebookMetadata": {
    "pythonIndentUnit": 4
   },
   "notebookName": "bronze_01_ingestao",
   "widgets": {}
  },
  "language_info": {
   "name": "python"
  }
 },
 "nbformat": 4,
 "nbformat_minor": 0
}
