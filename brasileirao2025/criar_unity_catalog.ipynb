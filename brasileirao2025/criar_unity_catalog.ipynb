{
 "cells": [
  {
   "cell_type": "code",
   "execution_count": 0,
   "metadata": {
    "application/vnd.databricks.v1+cell": {
     "cellMetadata": {
      "byteLimit": 2048000,
      "rowLimit": 10000
     },
     "inputWidgets": {},
     "nuid": "2d7a3ed3-45fe-4f08-8254-adbd9b60de1c",
     "showTitle": false,
     "tableResultSettingsMap": {},
     "title": ""
    }
   },
   "outputs": [],
   "source": [
    "# Criar catálogo brasileiro2025 (se necessário)\n",
    "spark.sql(\"CREATE CATALOG IF NOT EXISTS brasileirao2025\")\n",
    "\n",
    "# Usar o catálogo brasileirao2025\n",
    "spark.sql(\"USE CATALOG brasileirao2025\")\n",
    "\n",
    "# Criar schemas bronze, silver e gold\n",
    "spark.sql(\"CREATE SCHEMA IF NOT EXISTS bronze\")\n",
    "spark.sql(\"CREATE SCHEMA IF NOT EXISTS silver\")\n",
    "spark.sql(\"CREATE SCHEMA IF NOT EXISTS gold\")\n",
    "\n",
    "# Criar volune source em bronze\n",
    "spark.sql(\"CREATE VOLUME IF NOT EXISTS brasileirao2025.bronze.source\")\n",
    "\n"
   ]
  }
 ],
 "metadata": {
  "application/vnd.databricks.v1+notebook": {
   "computePreferences": null,
   "dashboards": [],
   "environmentMetadata": {
    "base_environment": "",
    "environment_version": "3"
   },
   "inputWidgetPreferences": null,
   "language": "python",
   "notebookMetadata": {
    "pythonIndentUnit": 4
   },
   "notebookName": "criar_unity_catalog",
   "widgets": {}
  },
  "language_info": {
   "name": "python"
  }
 },
 "nbformat": 4,
 "nbformat_minor": 0
}
